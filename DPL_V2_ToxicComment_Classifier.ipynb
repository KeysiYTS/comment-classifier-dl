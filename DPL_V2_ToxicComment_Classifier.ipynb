{
  "nbformat": 4,
  "nbformat_minor": 0,
  "metadata": {
    "colab": {
      "name": "DPL_V2_ToxicComment_Classifier.ipynb",
      "provenance": [],
      "collapsed_sections": [
        "MQtg3K8xkSt6"
      ],
      "mount_file_id": "1OItpUXIB_r8S-BsEA-Q72aqDn5HNmOR5",
      "authorship_tag": "ABX9TyPjLOClfqUvorOxRaLHkB76",
      "include_colab_link": true
    },
    "kernelspec": {
      "name": "python3",
      "display_name": "Python 3"
    },
    "language_info": {
      "name": "python"
    }
  },
  "cells": [
    {
      "cell_type": "markdown",
      "metadata": {
        "id": "view-in-github",
        "colab_type": "text"
      },
      "source": [
        "<a href=\"https://colab.research.google.com/github/KeysiYTS/comment-classifier-dl/blob/dev/DPL_V2_ToxicComment_Classifier.ipynb\" target=\"_parent\"><img src=\"https://colab.research.google.com/assets/colab-badge.svg\" alt=\"Open In Colab\"/></a>"
      ]
    },
    {
      "cell_type": "markdown",
      "metadata": {
        "id": "1KPlviaSOcpr"
      },
      "source": [
        "# Libs"
      ]
    },
    {
      "cell_type": "code",
      "metadata": {
        "id": "5rOey60oL9fE"
      },
      "source": [
        "import numpy as np\n",
        "import pandas as pd\n",
        "import matplotlib.pyplot as plt\n",
        "import matplotlib as mpl\n",
        "\n",
        "from sklearn.metrics import roc_auc_score, roc_curve\n",
        "from sklearn.model_selection import train_test_split\n",
        "\n",
        "from keras.models import Model, Sequential\n",
        "from keras.preprocessing.text import Tokenizer\n",
        "from keras.preprocessing.sequence import pad_sequences\n",
        "from keras.layers import Dense, InputLayer, LSTM, Embedding\n",
        "from keras.layers import Dropout, Activation, Bidirectional, GlobalMaxPool1D"
      ],
      "execution_count": 1,
      "outputs": []
    },
    {
      "cell_type": "markdown",
      "metadata": {
        "id": "GbzxzkK_a_RT"
      },
      "source": [
        "## Parameters"
      ]
    },
    {
      "cell_type": "code",
      "metadata": {
        "id": "CZg_1mAPbBHT"
      },
      "source": [
        "mpl.rcParams['figure.figsize'] = (7,5)"
      ],
      "execution_count": 2,
      "outputs": []
    },
    {
      "cell_type": "markdown",
      "metadata": {
        "id": "N7MGnikOOlCR"
      },
      "source": [
        "# Importing Dataset"
      ]
    },
    {
      "cell_type": "code",
      "metadata": {
        "id": "FmW3QEPkOSg_"
      },
      "source": [
        "EMBEDDING_FILE='/content/drive/MyDrive/0. Machine Learning/Projetos/Testes DPL/glove.6B.50d.txt'\n",
        "TRAIN_DATA_FILE= '/content/drive/MyDrive/0. Machine Learning/Projetos/Toxic Comment/train.csv'"
      ],
      "execution_count": 3,
      "outputs": []
    },
    {
      "cell_type": "code",
      "metadata": {
        "id": "Sn79bt3uOScn"
      },
      "source": [
        "dataset = pd.read_csv(TRAIN_DATA_FILE)"
      ],
      "execution_count": 4,
      "outputs": []
    },
    {
      "cell_type": "markdown",
      "metadata": {
        "id": "NRTUg6dwO7BX"
      },
      "source": [
        "## Separating X and Y"
      ]
    },
    {
      "cell_type": "code",
      "metadata": {
        "id": "lnjlN7SYOxBX"
      },
      "source": [
        "x = dataset[['comment_text']]\n",
        "y = dataset.drop(columns=['comment_text','id'])"
      ],
      "execution_count": 5,
      "outputs": []
    },
    {
      "cell_type": "markdown",
      "metadata": {
        "id": "NNyctUE_PMnn"
      },
      "source": [
        "### Separating Train and Test"
      ]
    },
    {
      "cell_type": "code",
      "metadata": {
        "id": "sE2FMcdFPQVe"
      },
      "source": [
        "train, test, y_train, y_test = train_test_split(x, y,\n",
        "                                                test_size=.3,\n",
        "                                                random_state = 64)"
      ],
      "execution_count": 6,
      "outputs": []
    },
    {
      "cell_type": "markdown",
      "metadata": {
        "id": "Zjir-nj0PfbO"
      },
      "source": [
        "# Preparing the data"
      ]
    },
    {
      "cell_type": "code",
      "metadata": {
        "id": "_WVS7AJYPfKW"
      },
      "source": [
        "embed_size = 50 # how big is each word vector\n",
        "max_features = 20000 # how many unique words to use (i.e num rows in embedding vector)\n",
        "maxlen = 100 # max number of words in a comment to use"
      ],
      "execution_count": 7,
      "outputs": []
    },
    {
      "cell_type": "code",
      "metadata": {
        "id": "9Mub34rqPpiR"
      },
      "source": [
        "list_sentences_train = train['comment_text']\n",
        "list_sentences_test = test['comment_text']"
      ],
      "execution_count": 8,
      "outputs": []
    },
    {
      "cell_type": "markdown",
      "metadata": {
        "id": "nX3aYRRjQOp0"
      },
      "source": [
        "## Tokenizer"
      ]
    },
    {
      "cell_type": "code",
      "metadata": {
        "id": "_2Wm2Oxzb__Z"
      },
      "source": [
        "tokenizer = Tokenizer(num_words=max_features)\n",
        "tokenizer.fit_on_texts(list(list_sentences_train))"
      ],
      "execution_count": 9,
      "outputs": []
    },
    {
      "cell_type": "code",
      "metadata": {
        "id": "HTbZT1r8QPuA"
      },
      "source": [
        "def tokenize_pad(text, maxlen):\n",
        "  list_tokenized = tokenizer.texts_to_sequences(text)\n",
        "  cvtd_text = pad_sequences(list_tokenized, maxlen=maxlen)\n",
        "  return cvtd_text"
      ],
      "execution_count": 10,
      "outputs": []
    },
    {
      "cell_type": "markdown",
      "metadata": {
        "id": "TbalbPn8QTX6"
      },
      "source": [
        "## Convert Text"
      ]
    },
    {
      "cell_type": "code",
      "metadata": {
        "id": "y_zSaUSDQVKy"
      },
      "source": [
        "x_train = tokenize_pad(list_sentences_train, maxlen)\n",
        "x_test = tokenize_pad(list_sentences_test, maxlen)"
      ],
      "execution_count": 11,
      "outputs": []
    },
    {
      "cell_type": "markdown",
      "metadata": {
        "id": "cL-Z1xIwQwQC"
      },
      "source": [
        "## Reading the gLove file"
      ]
    },
    {
      "cell_type": "code",
      "metadata": {
        "id": "C5C-W-3AQuKc"
      },
      "source": [
        "def get_coefs(word,*arr): return word, np.asarray(arr, dtype='float32')\n",
        "embeddings_index = dict(get_coefs(*o.strip().split()) for o in open(EMBEDDING_FILE))"
      ],
      "execution_count": 12,
      "outputs": []
    },
    {
      "cell_type": "code",
      "metadata": {
        "colab": {
          "base_uri": "https://localhost:8080/"
        },
        "id": "qMBbMX8ZQ6L8",
        "outputId": "157edce1-792c-4775-b620-f85e596c3a67"
      },
      "source": [
        "all_embs = np.stack(embeddings_index.values())\n",
        "emb_mean,emb_std = all_embs.mean(), all_embs.std()"
      ],
      "execution_count": 13,
      "outputs": [
        {
          "output_type": "stream",
          "text": [
            "/usr/local/lib/python3.7/dist-packages/IPython/core/interactiveshell.py:2822: FutureWarning: arrays to stack must be passed as a \"sequence\" type such as list or tuple. Support for non-sequence iterables such as generators is deprecated as of NumPy 1.16 and will raise an error in the future.\n",
            "  if self.run_code(code, result):\n"
          ],
          "name": "stderr"
        }
      ]
    },
    {
      "cell_type": "markdown",
      "metadata": {
        "id": "UW4AVq2HRLHj"
      },
      "source": [
        "## Creating the indexes"
      ]
    },
    {
      "cell_type": "code",
      "metadata": {
        "id": "vQULXW2HRQBy"
      },
      "source": [
        "word_index = tokenizer.word_index\n",
        "nb_words = min(max_features, len(word_index))\n",
        "embedding_matrix = np.random.normal(emb_mean, emb_std, (nb_words, embed_size))\n",
        "for word, i in word_index.items():\n",
        "    if i >= max_features: continue\n",
        "    embedding_vector = embeddings_index.get(word)\n",
        "    if embedding_vector is not None: embedding_matrix[i] = embedding_vector"
      ],
      "execution_count": 14,
      "outputs": []
    },
    {
      "cell_type": "code",
      "metadata": {
        "id": "MFCM4pEXRUdK"
      },
      "source": [
        "nb_words = min(max_features, len(word_index))"
      ],
      "execution_count": 15,
      "outputs": []
    },
    {
      "cell_type": "markdown",
      "metadata": {
        "id": "r_zzxwWARg6a"
      },
      "source": [
        "# Model"
      ]
    },
    {
      "cell_type": "code",
      "metadata": {
        "id": "EVeL7GpDRin5"
      },
      "source": [
        "model = Sequential([\n",
        "                    InputLayer(input_shape=(maxlen,)),\n",
        "                    Embedding(max_features, embed_size, weights=[embedding_matrix]),\n",
        "                    LSTM(50, return_sequences=True, dropout=0.1, recurrent_dropout=0.1),\n",
        "                    GlobalMaxPool1D(),\n",
        "                    Dense(50, activation=\"relu\"),\n",
        "                    Dense(6, activation=\"sigmoid\")\n",
        "                  ])\n",
        "\n",
        "model.compile(loss='binary_crossentropy', optimizer='adam')"
      ],
      "execution_count": 16,
      "outputs": []
    },
    {
      "cell_type": "markdown",
      "metadata": {
        "id": "JdIPGU4NSZ08"
      },
      "source": [
        "## Fit Function"
      ]
    },
    {
      "cell_type": "code",
      "metadata": {
        "id": "Ob3NGU-aSbcl"
      },
      "source": [
        "def fit_model(xtrain, ytrain):\n",
        "  model.fit(xtrain, ytrain, batch_size=32, \n",
        "            epochs=2, validation_split=0.2, verbose=0)"
      ],
      "execution_count": 17,
      "outputs": []
    },
    {
      "cell_type": "code",
      "metadata": {
        "id": "VSLw4sRZUCrR"
      },
      "source": [
        "fit_model(x_train, y_train)"
      ],
      "execution_count": 18,
      "outputs": []
    },
    {
      "cell_type": "markdown",
      "metadata": {
        "id": "MQovpuwYXjDl"
      },
      "source": [
        "# Predict Function"
      ]
    },
    {
      "cell_type": "code",
      "metadata": {
        "id": "3WmKaSYDXlZp"
      },
      "source": [
        "def predict_text(xtest):\n",
        "  predictions = model.predict(xtest, verbose=0)\n",
        "  return predictions"
      ],
      "execution_count": 19,
      "outputs": []
    },
    {
      "cell_type": "code",
      "metadata": {
        "id": "hHcq0zdVX0hA"
      },
      "source": [
        "predictions = predict_text(x_test)"
      ],
      "execution_count": 20,
      "outputs": []
    },
    {
      "cell_type": "markdown",
      "metadata": {
        "id": "mzxqFbxxYiqL"
      },
      "source": [
        "# ROC Curve/Score"
      ]
    },
    {
      "cell_type": "code",
      "metadata": {
        "id": "YBpUq3E1YiaN",
        "colab": {
          "base_uri": "https://localhost:8080/",
          "height": 1000
        },
        "outputId": "6d85e6fb-1f57-416a-f738-d04c9a7f0a8c"
      },
      "source": [
        "for idx,column in enumerate(y_test.columns):\n",
        "  fpr, tpr, threshold = roc_curve(y_test[column], predictions[:,idx])\n",
        "  plt.figure(figsize=(3,3))\n",
        "  plt.plot(fpr, tpr, label = column)\n",
        "  score = round(roc_auc_score(y_test[column], predictions[:,idx]),2)\n",
        "  title = str(column) + '-' + str((score*100)) + '%'\n",
        "  plt.title(title)"
      ],
      "execution_count": 21,
      "outputs": [
        {
          "output_type": "display_data",
          "data": {
            "image/png": "[encoded data removed]",
            "text/plain": [
              "<Figure size 216x216 with 1 Axes>"
            ]
          },
          "metadata": {
            "tags": [],
            "needs_background": "light"
          }
        },
        {
          "output_type": "display_data",
          "data": {
            "image/png": "[encoded data removed]",
            "text/plain": [
              "<Figure size 216x216 with 1 Axes>"
            ]
          },
          "metadata": {
            "tags": [],
            "needs_background": "light"
          }
        },
        {
          "output_type": "display_data",
          "data": {
            "image/png": "[encoded data removed]",
            "text/plain": [
              "<Figure size 216x216 with 1 Axes>"
            ]
          },
          "metadata": {
            "tags": [],
            "needs_background": "light"
          }
        },
        {
          "output_type": "display_data",
          "data": {
            "image/png": "[encoded data removed]",
            "text/plain": [
              "<Figure size 216x216 with 1 Axes>"
            ]
          },
          "metadata": {
            "tags": [],
            "needs_background": "light"
          }
        },
        {
          "output_type": "display_data",
          "data": {
            "image/png": "[encoded data removed]",
            "text/plain": [
              "<Figure size 216x216 with 1 Axes>"
            ]
          },
          "metadata": {
            "tags": [],
            "needs_background": "light"
          }
        },
        {
          "output_type": "display_data",
          "data": {
            "image/png": "[encoded data removed]",
            "text/plain": [
              "<Figure size 216x216 with 1 Axes>"
            ]
          },
          "metadata": {
            "tags": [],
            "needs_background": "light"
          }
        }
      ]
    },
    {
      "cell_type": "code",
      "metadata": {
        "id": "giqnb9dtahm1"
      },
      "source": [
        ""
      ],
      "execution_count": 21,
      "outputs": []
    },
    {
      "cell_type": "code",
      "metadata": {
        "id": "4IszHjY4ahki"
      },
      "source": [
        ""
      ],
      "execution_count": 21,
      "outputs": []
    },
    {
      "cell_type": "code",
      "metadata": {
        "id": "Uer2R7lKaucD",
        "colab": {
          "base_uri": "https://localhost:8080/"
        },
        "outputId": "43ee728a-9847-422e-b51d-4edbc8754678"
      },
      "source": [
        "y_test.columns"
      ],
      "execution_count": 22,
      "outputs": [
        {
          "output_type": "execute_result",
          "data": {
            "text/plain": [
              "Index(['toxic', 'severe_toxic', 'obscene', 'threat', 'insult',\n",
              "       'identity_hate'],\n",
              "      dtype='object')"
            ]
          },
          "metadata": {
            "tags": []
          },
          "execution_count": 22
        }
      ]
    },
    {
      "cell_type": "code",
      "metadata": {
        "id": "dC7hIg01aK-C"
      },
      "source": [
        "fpr0, tpr0, thresholds0 = roc_curve(y_test['toxic'], predictions[:,0])\n",
        "fpr1, tpr1, thresholds1 = roc_curve(y_test['severe_toxic'], predictions[:,1])\n",
        "fpr2, tpr2, thresholds2 = roc_curve(y_test['obscene'], predictions[:,2])\n",
        "fpr3, tpr3, thresholds3 = roc_curve(y_test['threat'], predictions[:,3])\n",
        "fpr4, tpr4, thresholds4 = roc_curve(y_test['insult'], predictions[:,4])\n",
        "fpr5, tpr5, thresholds5 = roc_curve(y_test['identity_hate'], predictions[:,5])"
      ],
      "execution_count": 23,
      "outputs": []
    },
    {
      "cell_type": "code",
      "metadata": {
        "colab": {
          "base_uri": "https://localhost:8080/",
          "height": 320
        },
        "id": "-Zd2a0ixal9g",
        "outputId": "ee445dcb-8301-46d7-9b45-a3234ff337f6"
      },
      "source": [
        "plt.plot(fpr0, tpr0, label= \"Toxic\")\n",
        "plt.plot(fpr1, tpr1, label= \"Severe Toxic\")\n",
        "plt.plot(fpr2, tpr2, label= \"Obscene\")\n",
        "plt.plot(fpr3, tpr3, label= \"Threat\")\n",
        "plt.plot(fpr4, tpr4, label= \"Linear\")\n",
        "plt.plot(fpr5, tpr5, label= \"Identity Hate\")\n",
        "plt.legend()\n",
        "plt.show()"
      ],
      "execution_count": 24,
      "outputs": [
        {
          "output_type": "display_data",
          "data": {
            "image/png": "[encoded data removed]",
            "text/plain": [
              "<Figure size 504x360 with 1 Axes>"
            ]
          },
          "metadata": {
            "tags": [],
            "needs_background": "light"
          }
        }
      ]
    },
    {
      "cell_type": "markdown",
      "metadata": {
        "id": "hhQAEvBOhMBX"
      },
      "source": [
        "#test"
      ]
    },
    {
      "cell_type": "code",
      "metadata": {
        "id": "dy23xg-Wa8LB"
      },
      "source": [
        "a = \"All asians are evil\""
      ],
      "execution_count": 25,
      "outputs": []
    },
    {
      "cell_type": "markdown",
      "metadata": {
        "id": "MQtg3K8xkSt6"
      },
      "source": [
        "###process"
      ]
    },
    {
      "cell_type": "code",
      "metadata": {
        "id": "OJ8B3a8UjCm7"
      },
      "source": [
        "phrase_list = []\n",
        "phrase_list.append(a)\n",
        "tkn_text = tokenize_pad(phrase_list, maxlen)\n",
        "prediction = predict_text(tkn_text)\n",
        "pred_percent = (predictions * 100)"
      ],
      "execution_count": 26,
      "outputs": []
    },
    {
      "cell_type": "markdown",
      "metadata": {
        "id": "YZ7LpPHdq4t3"
      },
      "source": [
        ""
      ]
    },
    {
      "cell_type": "markdown",
      "metadata": {
        "id": "JFM-sQiskU9l"
      },
      "source": [
        "###DF"
      ]
    },
    {
      "cell_type": "code",
      "metadata": {
        "colab": {
          "base_uri": "https://localhost:8080/",
          "height": 79
        },
        "id": "9x92kMYOhO5D",
        "outputId": "9c28711e-d320-4f3a-c9e0-623d4f478a4c"
      },
      "source": [
        "pd.DataFrame(prediction, columns=y_test.columns.values).round(1)"
      ],
      "execution_count": 27,
      "outputs": [
        {
          "output_type": "execute_result",
          "data": {
            "text/html": [
              "<div>\n",
              "<style scoped>\n",
              "    .dataframe tbody tr th:only-of-type {\n",
              "        vertical-align: middle;\n",
              "    }\n",
              "\n",
              "    .dataframe tbody tr th {\n",
              "        vertical-align: top;\n",
              "    }\n",
              "\n",
              "    .dataframe thead th {\n",
              "        text-align: right;\n",
              "    }\n",
              "</style>\n",
              "<table border=\"1\" class=\"dataframe\">\n",
              "  <thead>\n",
              "    <tr style=\"text-align: right;\">\n",
              "      <th></th>\n",
              "      <th>toxic</th>\n",
              "      <th>severe_toxic</th>\n",
              "      <th>obscene</th>\n",
              "      <th>threat</th>\n",
              "      <th>insult</th>\n",
              "      <th>identity_hate</th>\n",
              "    </tr>\n",
              "  </thead>\n",
              "  <tbody>\n",
              "    <tr>\n",
              "      <th>0</th>\n",
              "      <td>0.8</td>\n",
              "      <td>0.0</td>\n",
              "      <td>0.0</td>\n",
              "      <td>0.1</td>\n",
              "      <td>0.3</td>\n",
              "      <td>0.3</td>\n",
              "    </tr>\n",
              "  </tbody>\n",
              "</table>\n",
              "</div>"
            ],
            "text/plain": [
              "   toxic  severe_toxic  obscene  threat  insult  identity_hate\n",
              "0    0.8           0.0      0.0     0.1     0.3            0.3"
            ]
          },
          "metadata": {
            "tags": []
          },
          "execution_count": 27
        }
      ]
    }
  ]
}